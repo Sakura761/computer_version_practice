{
 "cells": [
  {
   "cell_type": "code",
   "execution_count": 8,
   "metadata": {},
   "outputs": [],
   "source": [
    "from skimage.metrics import structural_similarity\n",
    "from skimage.metrics import peak_signal_noise_ratio\n",
    "import os,cv2\n"
   ]
  },
  {
   "cell_type": "code",
   "execution_count": 9,
   "metadata": {},
   "outputs": [
    {
     "data": {
      "text/plain": [
       "(['baby.png', 'bird.png', 'butterfly.png', 'head.png', 'woman.png'],\n",
       " ['baby.png', 'bird.png', 'butterfly.png', 'head.png', 'woman.png'])"
      ]
     },
     "execution_count": 9,
     "metadata": {},
     "output_type": "execute_result"
    }
   ],
   "source": [
    "origin_path = './Set5'\n",
    "sr_path = './output'\n",
    "origin_images = os.listdir(origin_path)\n",
    "sr_images = os.listdir(sr_path)\n",
    "origin_images,sr_images"
   ]
  },
  {
   "cell_type": "code",
   "execution_count": 13,
   "metadata": {},
   "outputs": [
    {
     "name": "stdout",
     "output_type": "stream",
     "text": [
      "baby.png\n",
      "psnr: 36.1264187447843\n",
      "ssim: 0.9612231541154292\n",
      "bird.png\n",
      "psnr: 37.63745541319095\n",
      "ssim: 0.9749154119109709\n",
      "butterfly.png\n",
      "psnr: 30.411730496672934\n",
      "ssim: 0.9530482747267754\n",
      "head.png\n",
      "psnr: 31.889246868655373\n",
      "ssim: 0.8409250691553117\n",
      "woman.png\n",
      "psnr: 33.37657856449685\n",
      "ssim: 0.9665683775848772\n"
     ]
    }
   ],
   "source": [
    "for or_img,sr_img in zip(origin_images,sr_images):\n",
    "    print(or_img)\n",
    "    img1 = cv2.imread(os.path.join(origin_path,or_img))\n",
    "    img2 = cv2.imread(os.path.join(sr_path,sr_img))\n",
    "    psnr = peak_signal_noise_ratio(img1,img2)\n",
    "    print(\"psnr:\",psnr)\n",
    "    ssim = structural_similarity(img1,img2,data_range=255,multichannel=True,channel_axis=2)\n",
    "    print(\"ssim:\",ssim)"
   ]
  }
 ],
 "metadata": {
  "kernelspec": {
   "display_name": "torch",
   "language": "python",
   "name": "python3"
  },
  "language_info": {
   "codemirror_mode": {
    "name": "ipython",
    "version": 3
   },
   "file_extension": ".py",
   "mimetype": "text/x-python",
   "name": "python",
   "nbconvert_exporter": "python",
   "pygments_lexer": "ipython3",
   "version": "3.9.18"
  }
 },
 "nbformat": 4,
 "nbformat_minor": 2
}
